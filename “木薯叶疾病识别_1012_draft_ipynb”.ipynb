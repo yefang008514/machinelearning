{
  "nbformat": 4,
  "nbformat_minor": 0,
  "metadata": {
    "colab": {
      "name": "“木薯叶疾病识别-1012-draft.ipynb”",
      "provenance": [],
      "collapsed_sections": [],
      "mount_file_id": "https://gist.github.com/yefang008514/597a7d4347c7e564737735cc2e187627#file--1012-draft-ipynb-ipynb",
      "authorship_tag": "ABX9TyNy6ueeuOz3CD/og2FY/REk",
      "include_colab_link": true
    },
    "kernelspec": {
      "name": "python3",
      "display_name": "Python 3"
    },
    "language_info": {
      "name": "python"
    },
    "accelerator": "GPU"
  },
  "cells": [
    {
      "cell_type": "markdown",
      "metadata": {
        "id": "view-in-github",
        "colab_type": "text"
      },
      "source": [
        "<a href=\"https://colab.research.google.com/github/yefang008514/machinelearning/blob/master/%E2%80%9C%E6%9C%A8%E8%96%AF%E5%8F%B6%E7%96%BE%E7%97%85%E8%AF%86%E5%88%AB_1012_draft_ipynb%E2%80%9D.ipynb\" target=\"_parent\"><img src=\"https://colab.research.google.com/assets/colab-badge.svg\" alt=\"Open In Colab\"/></a>"
      ]
    },
    {
      "cell_type": "code",
      "metadata": {
        "id": "9PqCMSljz5OS"
      },
      "source": [
        "import os #连接到我的云盘\n",
        "from google.colab import drive\n",
        "drive.mount('/content/drive')\n",
        "\n",
        "path = \"/content/drive/My Drive\"\n",
        "\n",
        "os.chdir(path)\n",
        "os.listdir(path)"
      ],
      "execution_count": null,
      "outputs": []
    },
    {
      "cell_type": "code",
      "metadata": {
        "id": "pgHiX-9oCDsN"
      },
      "source": [
        "import os, sys, glob, argparse\n",
        "import pandas as pd\n",
        "import numpy as np\n",
        "from tqdm import tqdm\n",
        "\n",
        "import time, datetime\n",
        "import pdb, traceback\n",
        "\n",
        "import cv2\n",
        "from PIL import Image\n",
        "from sklearn.model_selection import train_test_split, StratifiedKFold, KFold\n",
        "\n",
        "import torch\n",
        "import torchvision.models as models\n",
        "import torchvision.transforms as transforms\n",
        "import torchvision.datasets as datasets\n",
        "import torch.nn as nn          #\n",
        "import torch.nn.functional as F\n",
        "import torch.optim as optim\n",
        "from torch.autograd import Variable\n",
        "from torch.utils.data.dataset import Dataset"
      ],
      "execution_count": 7,
      "outputs": []
    },
    {
      "cell_type": "code",
      "metadata": {
        "id": "vzbXauyKcxEO"
      },
      "source": [
        "# import shutil\n",
        "# # os.mkdir('/content/sample_data/mushuye')\n",
        "# # os.mkdir('/content/sample_data/mushuye/train')\n",
        "# shutil.copytree('/content/drive/MyDrive/mushuye/train','/content/sample_data/mushuye/train')"
      ],
      "execution_count": null,
      "outputs": []
    },
    {
      "cell_type": "code",
      "metadata": {
        "id": "hiun62fl2jPd"
      },
      "source": [
        "train_jpg = glob.glob(r'/content/drive/MyDrive/mushuye/train/*/*')#文件路径 #/content/sample_data/mushuye\n",
        "np.random.shuffle(train_jpg)\n",
        "train_jpg = np.array(train_jpg)\n",
        "    \n",
        "class QRDataset(Dataset):\n",
        "    def __init__(self, img_path, transform=None):\n",
        "        self.img_path = img_path\n",
        "        if transform is not None:\n",
        "            self.transform = transform\n",
        "        else:\n",
        "            self.transform = None\n",
        "    \n",
        "    def __getitem__(self, index):\n",
        "        start_time = time.time()\n",
        "        img = Image.open(self.img_path[index]).convert('RGB')\n",
        "        #图片给标签\n",
        "        lbl_dict = {\n",
        "             'CBB': 0,\n",
        "             'CBSD': 1,\n",
        "             'CGM': 2,\n",
        "             'CMD': 3,\n",
        "             'H': 4,\n",
        "             'AL': 5,\n",
        "             }\n",
        "        if self.transform is not None:\n",
        "            img = self.transform(img)\n",
        "        \n",
        "        if 'test' in self.img_path[index]:\n",
        "            return img, torch.from_numpy(np.array(0))\n",
        "        else:\n",
        "            lbl_int = lbl_dict[self.img_path[index].split('/')[-2]]\n",
        "            return img, torch.from_numpy(np.array(lbl_int))\n",
        "    \n",
        "    def __len__(self):\n",
        "        return len(self.img_path)"
      ],
      "execution_count": 9,
      "outputs": []
    },
    {
      "cell_type": "code",
      "metadata": {
        "colab": {
          "base_uri": "https://localhost:8080/"
        },
        "id": "kOd-r0hhOeM0",
        "outputId": "45fa3303-b850-4f16-cc39-00cff81c695e"
      },
      "source": [
        "train_jpg"
      ],
      "execution_count": 10,
      "outputs": [
        {
          "output_type": "execute_result",
          "data": {
            "text/plain": [
              "array(['/content/drive/MyDrive/mushuye/train/CBB/1546870332.jpg',\n",
              "       '/content/drive/MyDrive/mushuye/train/AL/Train_1437.jpg',\n",
              "       '/content/drive/MyDrive/mushuye/train/H/2416129952.jpg', ...,\n",
              "       '/content/drive/MyDrive/mushuye/train/CBB/3142477676.jpg',\n",
              "       '/content/drive/MyDrive/mushuye/train/AL/Train_121.jpg',\n",
              "       '/content/drive/MyDrive/mushuye/train/H/2224228735.jpg'],\n",
              "      dtype='<U56')"
            ]
          },
          "metadata": {},
          "execution_count": 10
        }
      ]
    },
    {
      "cell_type": "code",
      "metadata": {
        "id": "rCYQ_7RiHOUM"
      },
      "source": [
        "class XunFeiNet(nn.Module):\n",
        "    def __init__(self):\n",
        "        super(XunFeiNet, self).__init__()\n",
        "                \n",
        "        model = models.resnet18(True)        #https://pytorch.org/vision/stable/models.html RESNET\n",
        "        model.avgpool = nn.AdaptiveAvgPool2d(1)   #POOLING\n",
        "        model.fc = nn.Linear(512, 6)        #FULLY CONNETCTED NETWORK https://pytorch.org/docs/stable/nn.html#linear-layers\n",
        "        self.resnet = model\n",
        "         \n",
        "    def forward(self, img):        \n",
        "        out = self.resnet(img)\n",
        "        return out\n",
        "\n",
        "def validate(val_loader, model, criterion):\n",
        "    model.eval()\n",
        "    acc1 = []\n",
        "    with torch.no_grad():\n",
        "        end = time.time()\n",
        "        for i, (input, target) in enumerate(val_loader):\n",
        "            input = input.cuda()\n",
        "            target = target.cuda()\n",
        "            \n",
        "            output = model(input)\n",
        "            loss = criterion(output, target)\n",
        "            acc1.append((output.argmax(1) == target).float().mean().item())\n",
        "\n",
        "        print(' * Val Acc@1 {0}'.format(np.mean(acc1)))\n",
        "        return np.mean(acc1)\n",
        "\n",
        "def predict(test_loader, model, tta=10):\n",
        "    model.eval()\n",
        "    \n",
        "    test_pred_tta = None\n",
        "    for _ in range(tta):\n",
        "        test_pred = []\n",
        "        with torch.no_grad():\n",
        "            end = time.time()\n",
        "            for i, (input, target) in enumerate(test_loader):\n",
        "                input = input.cuda()\n",
        "                target = target.cuda()\n",
        "\n",
        "                output = model(input)\n",
        "                output = output.data.cpu().numpy()\n",
        "\n",
        "                test_pred.append(output)\n",
        "        test_pred = np.vstack(test_pred)\n",
        "    \n",
        "        if test_pred_tta is None:\n",
        "            test_pred_tta = test_pred\n",
        "        else:\n",
        "            test_pred_tta += test_pred\n",
        "    \n",
        "    return test_pred_tta\n",
        "\n",
        "def train(train_loader, model, criterion, optimizer, epoch):\n",
        "    model.train()\n",
        "\n",
        "    end = time.time()\n",
        "    acc1 = []\n",
        "    for i, (input, target) in enumerate(train_loader):\n",
        "        input = input.cuda(non_blocking=True)\n",
        "        target = target.cuda(non_blocking=True)\n",
        "        output = model(input)\n",
        "        loss = criterion(output, target)\n",
        "\n",
        "        acc1.append((output.argmax(1) == target).float().mean().item())\n",
        "        optimizer.zero_grad()\n",
        "        loss.backward()\n",
        "        optimizer.step()\n",
        "        \n",
        "        if i % 100 == 0:\n",
        "            print('Train: {0}'.format(np.mean(acc1)))"
      ],
      "execution_count": 11,
      "outputs": []
    },
    {
      "cell_type": "code",
      "metadata": {
        "id": "XRCmrEgVHYTc"
      },
      "source": [
        "skf = KFold(n_splits=5, random_state=2334, shuffle=True)\n",
        "for flod_idx, (train_idx, val_idx) in enumerate(skf.split(train_jpg, train_jpg)):\n",
        "    \n",
        "    train_loader = torch.utils.data.DataLoader(\n",
        "        QRDataset(train_jpg[train_idx][:],\n",
        "                transforms.Compose([\n",
        "                            transforms.Resize((124, 124)),        \n",
        "                            transforms.RandomAffine(10),\n",
        "                            transforms.ColorJitter(hue=.05, saturation=.05),\n",
        "                            transforms.RandomHorizontalFlip(),\n",
        "                            transforms.RandomVerticalFlip(),\n",
        "                            # transforms.Resize((124, 124)),\n",
        "                            transforms.ToTensor(),\n",
        "                            transforms.Normalize([0.485, 0.456, 0.406], [0.229, 0.224, 0.225])\n",
        "                            # transforms.Normalize([0.5, 0.5, 0.5], [0.5, 0.5, 0.5])\n",
        "            ])\n",
        "        ), batch_size=50, shuffle=True, num_workers=5, pin_memory=True\n",
        "    )\n",
        "    \n",
        "    val_loader = torch.utils.data.DataLoader(\n",
        "        QRDataset(train_jpg[val_idx][:1000],\n",
        "                transforms.Compose([\n",
        "                            # transforms.Resize((300, 400)),\n",
        "                            transforms.Resize((124, 124)),\n",
        "                            # transforms.RandomCrop((88, 88)),\n",
        "                            transforms.ToTensor(),\n",
        "                            transforms.Normalize([0.485, 0.456, 0.406], [0.229, 0.224, 0.225])\n",
        "                            # transforms.Normalize([0.5, 0.5, 0.5], [0.5, 0.5, 0.5])\n",
        "            ])\n",
        "        ), batch_size=10, shuffle=False, num_workers=5, pin_memory=True\n",
        "    )\n",
        "        \n",
        "    model = XunFeiNet().cuda()\n",
        "    criterion = nn.CrossEntropyLoss().cuda()\n",
        "    optimizer = torch.optim.SGD(model.parameters(), 0.003)\n",
        "    best_acc = 0.0\n",
        "    for epoch in range(10):\n",
        "        print('\\nEpoch: ', epoch)\n",
        "\n",
        "        train(train_loader, model, criterion, optimizer, epoch)\n",
        "        val_acc = validate(val_loader, model, criterion)\n",
        "        \n",
        "        if val_acc > best_acc:\n",
        "            best_acc = val_acc\n",
        "            torch.save(model.state_dict(), './resnet18_fold{0}.pt'.format(flod_idx))\n",
        "            \n",
        "    break"
      ],
      "execution_count": null,
      "outputs": []
    },
    {
      "cell_type": "code",
      "metadata": {
        "id": "Stv5CDjR7iGU"
      },
      "source": [
        "#保存模型\n",
        "torch.save(model.state_dict(), '/content/drive/MyDrive/resnet18_fold{0}.pt'.format(flod_idx))"
      ],
      "execution_count": null,
      "outputs": []
    },
    {
      "cell_type": "markdown",
      "metadata": {
        "id": "I_u8fcR5Bijo"
      },
      "source": [
        "# 下面暂时没有用"
      ]
    },
    {
      "cell_type": "code",
      "metadata": {
        "id": "WMNHVmo2ObjK"
      },
      "source": [
        "test_jpg = glob.glob('./Datawhale_人脸情绪识别_数据集/test/*')\n",
        "test_jpg = np.array(test_jpg)\n",
        "test_jpg.sort()\n",
        "\n",
        "test_loader = torch.utils.data.DataLoader(\n",
        "        QRDataset(test_jpg,\n",
        "                transforms.Compose([\n",
        "                            transforms.RandomHorizontalFlip(),\n",
        "                            transforms.RandomVerticalFlip(),\n",
        "                            transforms.ToTensor(),\n",
        "                            transforms.Normalize([0.485, 0.456, 0.406], [0.229, 0.224, 0.225])\n",
        "            ])\n",
        "        ), batch_size=50, shuffle=False, num_workers=5, pin_memory=True\n",
        ")\n",
        "        \n",
        "model = XunFeiNet().cuda()\n",
        "model.load_state_dict(torch.load('resnet18_fold0.pt'))\n",
        "test_pred = predict(test_loader, model, 5)\n",
        "\n",
        "\n",
        "# test_csv = pd.DataFrame()\n",
        "# test_csv['ID'] = list(range(0, 3082))\n",
        "# test_csv['Label'] = np.argmax(test_pred, 1)\n",
        "# test_csv['Label'] = test_csv['Label'].map({1:'pos', 0:'neg'})\n",
        "# test_csv.to_csv('tmp.csv', index=None)"
      ],
      "execution_count": null,
      "outputs": []
    },
    {
      "cell_type": "code",
      "metadata": {
        "id": "UQ332skzPDKT"
      },
      "source": [
        "cls_name = np.array(['angry', 'disgusted', 'fearful', 'happy','neutral', 'sad', 'surprised'])\n",
        "submit_df = pd.DataFrame({'name': test_jpg, 'label': cls_name[test_pred.argmax(1)]})\n",
        "submit_df['name'] = submit_df['name'].apply(lambda x: x.split('/')[-1])"
      ],
      "execution_count": null,
      "outputs": []
    },
    {
      "cell_type": "code",
      "metadata": {
        "id": "xNVa7vwmPHl3"
      },
      "source": [
        "submit_df = submit_df.sort_values(by='name')\n",
        "submit_df.to_csv('pytorch_submit.csv', index=None)"
      ],
      "execution_count": null,
      "outputs": []
    }
  ]
}